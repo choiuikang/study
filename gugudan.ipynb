{
 "cells": [
  {
   "cell_type": "markdown",
   "id": "e4d2b70f",
   "metadata": {},
   "source": [
    "# 함수, for문을 이용해 구구단을 만들어 보자."
   ]
  },
  {
   "cell_type": "markdown",
   "id": "9f8eb89e",
   "metadata": {},
   "source": [
    "## for문 \n",
    "파이썬의 직관적인 특징을 가장 잘 대변해 주는 것이 바로 이 for문이다. while문과 비슷한 반복문인 for문은 매우 유용하고 문장 구조가 한눈에 쏙 들어 온다는 장점이 있다."
   ]
  },
  {
   "cell_type": "code",
   "execution_count": 1,
   "id": "6825a8e1",
   "metadata": {},
   "outputs": [
    {
     "data": {
      "text/plain": [
       "range(0, 10)"
      ]
     },
     "execution_count": 1,
     "metadata": {},
     "output_type": "execute_result"
    }
   ],
   "source": [
    "a=range(10)\n",
    "a"
   ]
  },
  {
   "cell_type": "markdown",
   "id": "13b618ad",
   "metadata": {},
   "source": [
    "for문은 숫자 리스트를 자동으로 만들어주는 range함수와 함께 사용하는 경우가 많다.<br>\n",
    "range(10)은 0부터 10 미만의 숫자를 포함하는 range 객체를 만들어준다."
   ]
  },
  {
   "cell_type": "code",
   "execution_count": 2,
   "id": "afe2bd9f",
   "metadata": {},
   "outputs": [
    {
     "data": {
      "text/plain": [
       "range(1, 10)"
      ]
     },
     "execution_count": 2,
     "metadata": {},
     "output_type": "execute_result"
    }
   ],
   "source": [
    "a= range(1,10)\n",
    "a"
   ]
  },
  {
   "cell_type": "markdown",
   "id": "98d1183f",
   "metadata": {},
   "source": [
    "구구단은 1부터 9까지의 숫자가 필요하니 range(1,10)으로 구구단을 만들어 보았다."
   ]
  },
  {
   "cell_type": "code",
   "execution_count": 21,
   "id": "048c2ae6",
   "metadata": {},
   "outputs": [
    {
     "name": "stdout",
     "output_type": "stream",
     "text": [
      "1\n",
      "2\n",
      "3\n",
      "4\n",
      "5\n",
      "6\n",
      "7\n",
      "8\n",
      "9\n"
     ]
    }
   ],
   "source": [
    "for i in range(1,10):\n",
    "    print(i)"
   ]
  },
  {
   "cell_type": "code",
   "execution_count": 22,
   "id": "84fc5df7",
   "metadata": {},
   "outputs": [
    {
     "name": "stdout",
     "output_type": "stream",
     "text": [
      "4\n",
      "8\n",
      "12\n",
      "16\n",
      "20\n",
      "24\n",
      "28\n",
      "32\n",
      "36\n"
     ]
    }
   ],
   "source": [
    "for i in range(1,10):\n",
    "    print(i * 4)"
   ]
  },
  {
   "cell_type": "code",
   "execution_count": 2,
   "id": "f7a0fbe7",
   "metadata": {},
   "outputs": [
    {
     "name": "stdout",
     "output_type": "stream",
     "text": [
      "4\n",
      "8\n",
      "12\n",
      "16\n",
      "20\n",
      "24\n",
      "28\n",
      "32\n",
      "36\n"
     ]
    }
   ],
   "source": [
    "for i in range(1,10):\n",
    "    k = i * 4\n",
    "    \n",
    "    print(k)"
   ]
  },
  {
   "cell_type": "code",
   "execution_count": 7,
   "id": "a73c0869",
   "metadata": {},
   "outputs": [
    {
     "name": "stdout",
     "output_type": "stream",
     "text": [
      "4 * 1 = 4\n",
      "4 * 2 = 8\n",
      "4 * 3 = 12\n",
      "4 * 4 = 16\n",
      "4 * 5 = 20\n",
      "4 * 6 = 24\n",
      "4 * 7 = 28\n",
      "4 * 8 = 32\n",
      "4 * 9 = 36\n"
     ]
    }
   ],
   "source": [
    "for i in range(1,10):\n",
    "    k = 4 * i\n",
    "    print(\"%d * %d = %d\" % (4, i, k))"
   ]
  },
  {
   "cell_type": "markdown",
   "id": "3548d86e",
   "metadata": {},
   "source": [
    "하나하나 풀어보며 이해하기 쉽게 만들어 두고 다음 함수를 이용해서 만들어보았다.(def는 함수이름을 만들때 쓰는 예약어이다.)"
   ]
  },
  {
   "cell_type": "code",
   "execution_count": 60,
   "id": "8e4ee660",
   "metadata": {},
   "outputs": [],
   "source": [
    "def gugudan(a):\n",
    "    for i in range(1,10):\n",
    "        k = a * i\n",
    "        print(\"%d * %d = %d\" % (a, i, k))"
   ]
  },
  {
   "cell_type": "code",
   "execution_count": 61,
   "id": "b9f2b515",
   "metadata": {},
   "outputs": [
    {
     "name": "stdout",
     "output_type": "stream",
     "text": [
      "3 * 1 = 3\n",
      "3 * 2 = 6\n",
      "3 * 3 = 9\n",
      "3 * 4 = 12\n",
      "3 * 5 = 15\n",
      "3 * 6 = 18\n",
      "3 * 7 = 21\n",
      "3 * 8 = 24\n",
      "3 * 9 = 27\n"
     ]
    }
   ],
   "source": [
    "gugudan(3)"
   ]
  },
  {
   "cell_type": "code",
   "execution_count": 62,
   "id": "19ce1e4c",
   "metadata": {},
   "outputs": [
    {
     "name": "stdout",
     "output_type": "stream",
     "text": [
      "9 * 1 = 9\n",
      "9 * 2 = 18\n",
      "9 * 3 = 27\n",
      "9 * 4 = 36\n",
      "9 * 5 = 45\n",
      "9 * 6 = 54\n",
      "9 * 7 = 63\n",
      "9 * 8 = 72\n",
      "9 * 9 = 81\n"
     ]
    }
   ],
   "source": [
    "gugudan(9)"
   ]
  },
  {
   "cell_type": "markdown",
   "id": "620ea194",
   "metadata": {},
   "source": [
    "위와 같이 gugudan(a) 명령어를 치면 구구단이 나오는 모습을 확인할수있다."
   ]
  },
  {
   "cell_type": "markdown",
   "id": "57920ecb",
   "metadata": {},
   "source": [
    "출처 : \"점프투파이썬\""
   ]
  }
 ],
 "metadata": {
  "kernelspec": {
   "display_name": "Python 3",
   "language": "python",
   "name": "python3"
  },
  "language_info": {
   "codemirror_mode": {
    "name": "ipython",
    "version": 3
   },
   "file_extension": ".py",
   "mimetype": "text/x-python",
   "name": "python",
   "nbconvert_exporter": "python",
   "pygments_lexer": "ipython3",
   "version": "3.8.8"
  }
 },
 "nbformat": 4,
 "nbformat_minor": 5
}
