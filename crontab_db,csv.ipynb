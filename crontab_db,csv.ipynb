{
 "cells": [
  {
   "cell_type": "markdown",
   "id": "75e28575",
   "metadata": {},
   "source": [
    "# 데이터 자동 수집을 위한 가이드\n",
    "\n",
    "데이터 수집을 자동으로 해보자. 이번에는 crontab와 sqlite3를 사용하여 DB에 자동으로 적재 해보려한다. 추가로 csv도 누적으로 적재하는 연습을 가져보려 한다. 이번 연습을 통해 잘 마무리를 하고 앞으로 주식 데이터나, 날씨 또는 여러가지의 데이터들을 수집 하는 과정을 가지려 한다. 전반적으로 목차는 다음과 같다.\n",
    " - 주피터 파일 생성 후 데이터 수집 코드 생성\n",
    " - CSV저장 및 db 저장\n",
    " - 주피터 파일 파이썬으로 변경\n",
    " - crontab 을 사용하여 분당 데이터 적재\n",
    " \n",
    "우선 주피터 파일에 데이터 수집 코드를 작성 하자"
   ]
  },
  {
   "cell_type": "markdown",
   "id": "5cb62166",
   "metadata": {},
   "source": [
    "# 1.코드 작성"
   ]
  },
  {
   "cell_type": "markdown",
   "id": "12f960fc",
   "metadata": {},
   "source": [
    "## 1-1.라이브러리 불러오기"
   ]
  },
  {
   "cell_type": "code",
   "execution_count": 13,
   "id": "575aa338",
   "metadata": {},
   "outputs": [],
   "source": [
    "import pandas as pd\n",
    "import datetime\n",
    "import sqlite3"
   ]
  },
  {
   "cell_type": "markdown",
   "id": "cb5bf15b",
   "metadata": {},
   "source": [
    "## 1-2.datetime 불러오기"
   ]
  },
  {
   "cell_type": "code",
   "execution_count": 14,
   "id": "a92ef37e",
   "metadata": {},
   "outputs": [],
   "source": [
    "today = datetime.datetime.now()"
   ]
  },
  {
   "cell_type": "markdown",
   "id": "68aba65f",
   "metadata": {},
   "source": [
    "## 1-3.칼럼 추가하기"
   ]
  },
  {
   "cell_type": "code",
   "execution_count": 15,
   "id": "e55c2ca5",
   "metadata": {},
   "outputs": [],
   "source": [
    "datetime_df = pd.DataFrame({'year':[today.year],\n",
    "                           'month':[today.month],\n",
    "                           'day':[today.day],\n",
    "                           'hour':[today.hour],\n",
    "                           'minute':[today.minute]})"
   ]
  },
  {
   "cell_type": "code",
   "execution_count": 16,
   "id": "01277518",
   "metadata": {},
   "outputs": [
    {
     "name": "stdout",
     "output_type": "stream",
     "text": [
      "<class 'pandas.core.frame.DataFrame'>\n",
      "RangeIndex: 1 entries, 0 to 0\n",
      "Data columns (total 5 columns):\n",
      " #   Column  Non-Null Count  Dtype\n",
      "---  ------  --------------  -----\n",
      " 0   year    1 non-null      int64\n",
      " 1   month   1 non-null      int64\n",
      " 2   day     1 non-null      int64\n",
      " 3   hour    1 non-null      int64\n",
      " 4   minute  1 non-null      int64\n",
      "dtypes: int64(5)\n",
      "memory usage: 168.0 bytes\n"
     ]
    }
   ],
   "source": [
    "datetime_df.info()"
   ]
  },
  {
   "cell_type": "markdown",
   "id": "52d044ed",
   "metadata": {},
   "source": [
    "## 1-4.csv 생성"
   ]
  },
  {
   "cell_type": "code",
   "execution_count": 17,
   "id": "51ed176e",
   "metadata": {},
   "outputs": [
    {
     "data": {
      "text/plain": [
       "0    12\n",
       "Name: month, dtype: int64"
      ]
     },
     "execution_count": 17,
     "metadata": {},
     "output_type": "execute_result"
    }
   ],
   "source": [
    "datetime_df.month"
   ]
  },
  {
   "cell_type": "code",
   "execution_count": 18,
   "id": "81af2ed1",
   "metadata": {},
   "outputs": [],
   "source": [
    "datetime_df.to_csv('datetime_df.csv', index=False, mode ='a', header = False)"
   ]
  },
  {
   "cell_type": "code",
   "execution_count": 32,
   "id": "f7262ae3",
   "metadata": {},
   "outputs": [
    {
     "data": {
      "text/html": [
       "<div>\n",
       "<style scoped>\n",
       "    .dataframe tbody tr th:only-of-type {\n",
       "        vertical-align: middle;\n",
       "    }\n",
       "\n",
       "    .dataframe tbody tr th {\n",
       "        vertical-align: top;\n",
       "    }\n",
       "\n",
       "    .dataframe thead th {\n",
       "        text-align: right;\n",
       "    }\n",
       "</style>\n",
       "<table border=\"1\" class=\"dataframe\">\n",
       "  <thead>\n",
       "    <tr style=\"text-align: right;\">\n",
       "      <th></th>\n",
       "      <th>year</th>\n",
       "      <th>month</th>\n",
       "      <th>day</th>\n",
       "      <th>hour</th>\n",
       "      <th>minute</th>\n",
       "    </tr>\n",
       "  </thead>\n",
       "  <tbody>\n",
       "    <tr>\n",
       "      <th>0</th>\n",
       "      <td>2021</td>\n",
       "      <td>11</td>\n",
       "      <td>24</td>\n",
       "      <td>12</td>\n",
       "      <td>19</td>\n",
       "    </tr>\n",
       "    <tr>\n",
       "      <th>1</th>\n",
       "      <td>2021</td>\n",
       "      <td>11</td>\n",
       "      <td>24</td>\n",
       "      <td>12</td>\n",
       "      <td>36</td>\n",
       "    </tr>\n",
       "    <tr>\n",
       "      <th>2</th>\n",
       "      <td>2021</td>\n",
       "      <td>11</td>\n",
       "      <td>24</td>\n",
       "      <td>12</td>\n",
       "      <td>37</td>\n",
       "    </tr>\n",
       "    <tr>\n",
       "      <th>3</th>\n",
       "      <td>2021</td>\n",
       "      <td>11</td>\n",
       "      <td>24</td>\n",
       "      <td>12</td>\n",
       "      <td>38</td>\n",
       "    </tr>\n",
       "    <tr>\n",
       "      <th>4</th>\n",
       "      <td>2021</td>\n",
       "      <td>11</td>\n",
       "      <td>24</td>\n",
       "      <td>12</td>\n",
       "      <td>39</td>\n",
       "    </tr>\n",
       "    <tr>\n",
       "      <th>...</th>\n",
       "      <td>...</td>\n",
       "      <td>...</td>\n",
       "      <td>...</td>\n",
       "      <td>...</td>\n",
       "      <td>...</td>\n",
       "    </tr>\n",
       "    <tr>\n",
       "      <th>16510</th>\n",
       "      <td>2021</td>\n",
       "      <td>12</td>\n",
       "      <td>9</td>\n",
       "      <td>10</td>\n",
       "      <td>1</td>\n",
       "    </tr>\n",
       "    <tr>\n",
       "      <th>16511</th>\n",
       "      <td>2021</td>\n",
       "      <td>12</td>\n",
       "      <td>9</td>\n",
       "      <td>10</td>\n",
       "      <td>2</td>\n",
       "    </tr>\n",
       "    <tr>\n",
       "      <th>16512</th>\n",
       "      <td>2021</td>\n",
       "      <td>12</td>\n",
       "      <td>9</td>\n",
       "      <td>10</td>\n",
       "      <td>2</td>\n",
       "    </tr>\n",
       "    <tr>\n",
       "      <th>16513</th>\n",
       "      <td>2021</td>\n",
       "      <td>12</td>\n",
       "      <td>9</td>\n",
       "      <td>10</td>\n",
       "      <td>3</td>\n",
       "    </tr>\n",
       "    <tr>\n",
       "      <th>16514</th>\n",
       "      <td>2021</td>\n",
       "      <td>12</td>\n",
       "      <td>9</td>\n",
       "      <td>10</td>\n",
       "      <td>3</td>\n",
       "    </tr>\n",
       "  </tbody>\n",
       "</table>\n",
       "<p>16515 rows × 5 columns</p>\n",
       "</div>"
      ],
      "text/plain": [
       "       year  month  day  hour  minute\n",
       "0      2021     11   24    12      19\n",
       "1      2021     11   24    12      36\n",
       "2      2021     11   24    12      37\n",
       "3      2021     11   24    12      38\n",
       "4      2021     11   24    12      39\n",
       "...     ...    ...  ...   ...     ...\n",
       "16510  2021     12    9    10       1\n",
       "16511  2021     12    9    10       2\n",
       "16512  2021     12    9    10       2\n",
       "16513  2021     12    9    10       3\n",
       "16514  2021     12    9    10       3\n",
       "\n",
       "[16515 rows x 5 columns]"
      ]
     },
     "execution_count": 32,
     "metadata": {},
     "output_type": "execute_result"
    }
   ],
   "source": [
    "pd.read_csv('datetime_df.csv')"
   ]
  },
  {
   "cell_type": "markdown",
   "id": "64127697",
   "metadata": {},
   "source": [
    "------------------\n",
    "\n",
    "# 2. SQlite3\n",
    "## 2-1.DB 호출\n",
    "- employee.db가 없을 경우 새로 생성하며 연결\n",
    "- employee.db가 있을경우 해당 db로 연걸"
   ]
  },
  {
   "cell_type": "code",
   "execution_count": 20,
   "id": "9ae88fc0",
   "metadata": {},
   "outputs": [],
   "source": [
    "conn = sqlite3.connect(\"datetime5.db\")"
   ]
  },
  {
   "cell_type": "markdown",
   "id": "684c2baa",
   "metadata": {},
   "source": [
    "## 2-2.cursor 생성\n",
    "- conn.cursor을 통해 Cursor를 하나 생성"
   ]
  },
  {
   "cell_type": "code",
   "execution_count": 21,
   "id": "873636c4",
   "metadata": {},
   "outputs": [],
   "source": [
    "cur = conn.cursor()"
   ]
  },
  {
   "cell_type": "markdown",
   "id": "2ddae849",
   "metadata": {},
   "source": [
    "## 2-3.conn.execute를 통해 datetime_data5 테이블을 생성합니다."
   ]
  },
  {
   "cell_type": "code",
   "execution_count": 22,
   "id": "f5fdd3e7",
   "metadata": {},
   "outputs": [
    {
     "data": {
      "text/plain": [
       "<sqlite3.Cursor at 0x7f16f9326b90>"
      ]
     },
     "execution_count": 22,
     "metadata": {},
     "output_type": "execute_result"
    }
   ],
   "source": [
    "conn.execute('CREATE TABLE IF NOT EXISTS datetime_data5(year INTEGER, month INTEGER, day INTEGER, hour INTERGER, min INTERGER)')"
   ]
  },
  {
   "cell_type": "markdown",
   "id": "0195734e",
   "metadata": {},
   "source": [
    "## 2-4.data int 변경\n",
    "\n",
    "dataframe에서 데이터 선택수 int로 변경 (SQL 테이블 생성시 자료형을 INTERGER 로 했기 때문)"
   ]
  },
  {
   "cell_type": "code",
   "execution_count": 23,
   "id": "576ab95a",
   "metadata": {},
   "outputs": [],
   "source": [
    "year_value = int(datetime_df['year'])\n",
    "month_value = int(datetime_df['month'])\n",
    "day_value = int(datetime_df['day'])\n",
    "hour_value = int(datetime_df['hour'])\n",
    "minute_value = int(datetime_df['minute'])"
   ]
  },
  {
   "cell_type": "code",
   "execution_count": 24,
   "id": "4918cb30",
   "metadata": {},
   "outputs": [
    {
     "data": {
      "text/plain": [
       "0    2021\n",
       "Name: year, dtype: int64"
      ]
     },
     "execution_count": 24,
     "metadata": {},
     "output_type": "execute_result"
    }
   ],
   "source": [
    "datetime_df.year"
   ]
  },
  {
   "cell_type": "markdown",
   "id": "11e3e3af",
   "metadata": {},
   "source": [
    "## 2-5.데이터 삽입 (insert)\n",
    "\n",
    "생성해둔 데이터 프레임 datetime_df에서 각각의 데이터를 삽입"
   ]
  },
  {
   "cell_type": "code",
   "execution_count": 25,
   "id": "1ed04f66",
   "metadata": {},
   "outputs": [
    {
     "data": {
      "text/plain": [
       "<sqlite3.Cursor at 0x7f16f9326b20>"
      ]
     },
     "execution_count": 25,
     "metadata": {},
     "output_type": "execute_result"
    }
   ],
   "source": [
    "cur.execute('INSERT INTO datetime_data5 VALUES(:year, :month, :day, :hour, :minute);', \n",
    "            {\"year\":year_value, \"month\":month_value, \"day\":day_value, \"hour\": hour_value, \"minute\": minute_value})"
   ]
  },
  {
   "cell_type": "markdown",
   "id": "c9046979",
   "metadata": {},
   "source": [
    "## 2-6. 데이터 확인( select 구문 )"
   ]
  },
  {
   "cell_type": "code",
   "execution_count": 26,
   "id": "8d40d748",
   "metadata": {},
   "outputs": [
    {
     "data": {
      "text/plain": [
       "<sqlite3.Cursor at 0x7f16f9326b20>"
      ]
     },
     "execution_count": 26,
     "metadata": {},
     "output_type": "execute_result"
    }
   ],
   "source": [
    "cur.execute(\"SELECT month, day, hour, min FROM datetime_data5\")"
   ]
  },
  {
   "cell_type": "markdown",
   "id": "c00ac29c",
   "metadata": {},
   "source": [
    "## 2-7. pandas사용하여 데이터 프레임 호출"
   ]
  },
  {
   "cell_type": "code",
   "execution_count": 27,
   "id": "edcdef10",
   "metadata": {},
   "outputs": [],
   "source": [
    "df = pd.DataFrame(cur.fetchall())"
   ]
  },
  {
   "cell_type": "code",
   "execution_count": 28,
   "id": "6f398026",
   "metadata": {},
   "outputs": [
    {
     "data": {
      "text/html": [
       "<div>\n",
       "<style scoped>\n",
       "    .dataframe tbody tr th:only-of-type {\n",
       "        vertical-align: middle;\n",
       "    }\n",
       "\n",
       "    .dataframe tbody tr th {\n",
       "        vertical-align: top;\n",
       "    }\n",
       "\n",
       "    .dataframe thead th {\n",
       "        text-align: right;\n",
       "    }\n",
       "</style>\n",
       "<table border=\"1\" class=\"dataframe\">\n",
       "  <thead>\n",
       "    <tr style=\"text-align: right;\">\n",
       "      <th></th>\n",
       "      <th>0</th>\n",
       "      <th>1</th>\n",
       "      <th>2</th>\n",
       "      <th>3</th>\n",
       "    </tr>\n",
       "  </thead>\n",
       "  <tbody>\n",
       "    <tr>\n",
       "      <th>0</th>\n",
       "      <td>11</td>\n",
       "      <td>24</td>\n",
       "      <td>9</td>\n",
       "      <td>49</td>\n",
       "    </tr>\n",
       "    <tr>\n",
       "      <th>1</th>\n",
       "      <td>11</td>\n",
       "      <td>24</td>\n",
       "      <td>9</td>\n",
       "      <td>50</td>\n",
       "    </tr>\n",
       "    <tr>\n",
       "      <th>2</th>\n",
       "      <td>11</td>\n",
       "      <td>24</td>\n",
       "      <td>9</td>\n",
       "      <td>51</td>\n",
       "    </tr>\n",
       "    <tr>\n",
       "      <th>3</th>\n",
       "      <td>11</td>\n",
       "      <td>24</td>\n",
       "      <td>9</td>\n",
       "      <td>52</td>\n",
       "    </tr>\n",
       "    <tr>\n",
       "      <th>4</th>\n",
       "      <td>11</td>\n",
       "      <td>24</td>\n",
       "      <td>9</td>\n",
       "      <td>53</td>\n",
       "    </tr>\n",
       "    <tr>\n",
       "      <th>...</th>\n",
       "      <td>...</td>\n",
       "      <td>...</td>\n",
       "      <td>...</td>\n",
       "      <td>...</td>\n",
       "    </tr>\n",
       "    <tr>\n",
       "      <th>8468</th>\n",
       "      <td>12</td>\n",
       "      <td>9</td>\n",
       "      <td>9</td>\n",
       "      <td>50</td>\n",
       "    </tr>\n",
       "    <tr>\n",
       "      <th>8469</th>\n",
       "      <td>12</td>\n",
       "      <td>9</td>\n",
       "      <td>9</td>\n",
       "      <td>51</td>\n",
       "    </tr>\n",
       "    <tr>\n",
       "      <th>8470</th>\n",
       "      <td>12</td>\n",
       "      <td>9</td>\n",
       "      <td>9</td>\n",
       "      <td>52</td>\n",
       "    </tr>\n",
       "    <tr>\n",
       "      <th>8471</th>\n",
       "      <td>12</td>\n",
       "      <td>9</td>\n",
       "      <td>9</td>\n",
       "      <td>53</td>\n",
       "    </tr>\n",
       "    <tr>\n",
       "      <th>8472</th>\n",
       "      <td>12</td>\n",
       "      <td>9</td>\n",
       "      <td>9</td>\n",
       "      <td>53</td>\n",
       "    </tr>\n",
       "  </tbody>\n",
       "</table>\n",
       "<p>8473 rows × 4 columns</p>\n",
       "</div>"
      ],
      "text/plain": [
       "       0   1  2   3\n",
       "0     11  24  9  49\n",
       "1     11  24  9  50\n",
       "2     11  24  9  51\n",
       "3     11  24  9  52\n",
       "4     11  24  9  53\n",
       "...   ..  .. ..  ..\n",
       "8468  12   9  9  50\n",
       "8469  12   9  9  51\n",
       "8470  12   9  9  52\n",
       "8471  12   9  9  53\n",
       "8472  12   9  9  53\n",
       "\n",
       "[8473 rows x 4 columns]"
      ]
     },
     "execution_count": 28,
     "metadata": {},
     "output_type": "execute_result"
    }
   ],
   "source": [
    "df"
   ]
  },
  {
   "cell_type": "markdown",
   "id": "f8ba45ff",
   "metadata": {},
   "source": [
    "## 2-8.변경사항 저장 (commit)"
   ]
  },
  {
   "cell_type": "code",
   "execution_count": 29,
   "id": "9265f628",
   "metadata": {},
   "outputs": [],
   "source": [
    "conn.commit()"
   ]
  },
  {
   "cell_type": "code",
   "execution_count": 30,
   "id": "f1a9012f",
   "metadata": {},
   "outputs": [],
   "source": [
    "#conn.rollback()"
   ]
  },
  {
   "cell_type": "markdown",
   "id": "21080e39",
   "metadata": {},
   "source": [
    "## 2-9.DB 종료"
   ]
  },
  {
   "cell_type": "code",
   "execution_count": 31,
   "id": "8fa31bcb",
   "metadata": {},
   "outputs": [],
   "source": [
    "conn.close()"
   ]
  },
  {
   "cell_type": "markdown",
   "id": "0a020fee",
   "metadata": {},
   "source": [
    "이렇게 데이터 수집 코드를 작성하고 주피터 파일을 파이썬 파일로 변경 해보자. "
   ]
  },
  {
   "cell_type": "markdown",
   "id": "1b09f9f1",
   "metadata": {},
   "source": [
    "# 3.크론탭 사용"
   ]
  },
  {
   "cell_type": "markdown",
   "id": "54fb11f6",
   "metadata": {},
   "source": [
    "## 3-1.주피터 파일 파이썬으로 변경"
   ]
  },
  {
   "cell_type": "markdown",
   "id": "ca3f9465",
   "metadata": {},
   "source": [
    "$ jupyter nbconvert --to script [파일명].ipynb "
   ]
  },
  {
   "cell_type": "markdown",
   "id": "7756f403",
   "metadata": {},
   "source": [
    "파이썬 파일을 생성 했으니 이제 크론탭을 사용하여 자동화를 해보자. 이번에는 크론탭을 사용하지만 조만간에 airflow를 공부해서 포스팅 해보려 한다.\n",
    "\n",
    "### 3-1.자동화를 위한 크론탭 "
   ]
  },
  {
   "cell_type": "markdown",
   "id": "8e656cca",
   "metadata": {},
   "source": [
    "#### 크론탭 간략 설명\n",
    "\n",
    "- crontab -e (크론탭 설정창 이동 코드)\n",
    "\n",
    "- crontab -l (설정된 명령어 리스트 보기 코드)"
   ]
  },
  {
   "attachments": {
    "image-2.png": {
     "image/png": "[encoded data removed]"
    }
   },
   "cell_type": "markdown",
   "id": "b6c3ec5d",
   "metadata": {},
   "source": [
    "#### 주기 설정\n",
    "![image-2.png](attachment:image-2.png)"
   ]
  },
  {
   "cell_type": "markdown",
   "id": "e579afca",
   "metadata": {},
   "source": [
    "- 요일(0 ~ 7)은 0과7은 일요일,1(월요일) ~ 6(토요일)\n",
    "### 주기 설정 예  \n",
    "- 45 * * * * : 매시간 45분에 작업을 실행(1:45, 2:45, 3:45, 4:45.......)\n",
    "- 40 7 * * 4 : 매주 목요일 오전 7시 40분에 작업 실행."
   ]
  },
  {
   "attachments": {
    "image-2.png": {
     "image/png": "[encoded data removed]"
    }
   },
   "cell_type": "markdown",
   "id": "72f9d216",
   "metadata": {},
   "source": [
    "## 3-2 리눅스 명령어 설정\n",
    "![image-2.png](attachment:image-2.png)"
   ]
  },
  {
   "cell_type": "markdown",
   "id": "e8be714e",
   "metadata": {},
   "source": [
    "crontab -e 입력 하면 설정창으로 이동 한다. 그러면 a를 눌러 INSERT 모드로 변경 후 제일 밑으로 내려가 코드를 입력! <br>\n",
    "주기 설정은 아무것도 입력 안하면 1분 단위로 실행 되는 코드 이다.다른 예도 밑에 적어 두도록 하겠다.<br>위 경로 선택/ 절대경로 선택까지 완료 후 Esc -> : -> wq(저장하고 나가기) -> Enter 나가기!"
   ]
  },
  {
   "cell_type": "markdown",
   "id": "43d10649",
   "metadata": {},
   "source": [
    "# 4. 확인 \n",
    "\n",
    "## 4-1. csv 확인"
   ]
  },
  {
   "attachments": {
    "image.png": {
     "image/png": "[encoded data removed]"
    }
   },
   "cell_type": "markdown",
   "id": "267e93f3",
   "metadata": {},
   "source": [
    "pd.read_csv('datetime_df.csv')\n",
    "![image.png](attachment:image.png)"
   ]
  },
  {
   "cell_type": "markdown",
   "id": "5e955cb7",
   "metadata": {},
   "source": [
    "\n",
    "## 4-2. DB 확인"
   ]
  },
  {
   "attachments": {
    "image.png": {
     "image/png": "[encoded data removed]"
    }
   },
   "cell_type": "markdown",
   "id": "84655747",
   "metadata": {},
   "source": [
    "df = pd.DataFrame(cur.fetchall()) <br>\n",
    "df\n",
    "![image.png](attachment:image.png)"
   ]
  },
  {
   "cell_type": "markdown",
   "id": "4e68a5f4",
   "metadata": {},
   "source": [
    "이렇게 마무리가 되었다. 이렇게 자동화가 되면 다음에 나에게 필요한 정보를 수집 할 때 정말 편리하면서 정보 수집에 많은 도움이 될거 같아 좋아보인다. 지금은 시간데이터만 자동화 했지만 다음에 더 좋은 정보를 수집해서 올려보도록 하자."
   ]
  }
 ],
 "metadata": {
  "kernelspec": {
   "display_name": "Python 3 (ipykernel)",
   "language": "python",
   "name": "python3"
  },
  "language_info": {
   "codemirror_mode": {
    "name": "ipython",
    "version": 3
   },
   "file_extension": ".py",
   "mimetype": "text/x-python",
   "name": "python",
   "nbconvert_exporter": "python",
   "pygments_lexer": "ipython3",
   "version": "3.8.12"
  }
 },
 "nbformat": 4,
 "nbformat_minor": 5
}
