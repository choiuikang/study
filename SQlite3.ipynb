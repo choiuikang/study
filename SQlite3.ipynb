{
 "cells": [
  {
   "cell_type": "code",
   "execution_count": 1,
   "id": "cdfb8dc8",
   "metadata": {},
   "outputs": [],
   "source": [
    "# sqlite3를 import 하기 \n",
    "import sqlite3"
   ]
  },
  {
   "cell_type": "code",
   "execution_count": 2,
   "id": "7c75b556",
   "metadata": {},
   "outputs": [
    {
     "ename": "OperationalError",
     "evalue": "table employee_data already exists",
     "output_type": "error",
     "traceback": [
      "\u001b[0;31m---------------------------------------------------------------------------\u001b[0m",
      "\u001b[0;31mOperationalError\u001b[0m                          Traceback (most recent call last)",
      "\u001b[0;32m/tmp/ipykernel_3413/1814315370.py\u001b[0m in \u001b[0;36m<module>\u001b[0;34m\u001b[0m\n\u001b[1;32m      7\u001b[0m \u001b[0;34m\u001b[0m\u001b[0m\n\u001b[1;32m      8\u001b[0m \u001b[0;31m# conn.execute를 통해 employee_data 테이블을 생성합니다.\u001b[0m\u001b[0;34m\u001b[0m\u001b[0;34m\u001b[0m\u001b[0;34m\u001b[0m\u001b[0m\n\u001b[0;32m----> 9\u001b[0;31m \u001b[0mconn\u001b[0m\u001b[0;34m.\u001b[0m\u001b[0mexecute\u001b[0m\u001b[0;34m(\u001b[0m\u001b[0;34m'CREATE TABLE employee_data(id INTEGER, name TEXT, nickname TEXT, department TEXT, employment_date TEXT)'\u001b[0m\u001b[0;34m)\u001b[0m\u001b[0;34m\u001b[0m\u001b[0;34m\u001b[0m\u001b[0m\n\u001b[0m\u001b[1;32m     10\u001b[0m \u001b[0;34m\u001b[0m\u001b[0m\n\u001b[1;32m     11\u001b[0m \u001b[0;31m# cur.executemany를 통해 데이터를 INSERT합니다.\u001b[0m\u001b[0;34m\u001b[0m\u001b[0;34m\u001b[0m\u001b[0;34m\u001b[0m\u001b[0m\n",
      "\u001b[0;31mOperationalError\u001b[0m: table employee_data already exists"
     ]
    }
   ],
   "source": [
    "# employee.db가 없을 경우 새로 생성하며 연결\n",
    "# employee.db가 있을경우 해당 db로 연걸\n",
    "conn = sqlite3.connect(\"employee.db\")\n",
    "\n",
    "# conn.cursor을 통해 Cursor를 하나 생성\n",
    "cur = conn.cursor()\n",
    "_\n",
    "# conn.execute를 통해 employee_data 테이블을 생성합니다.\n",
    "conn.execute('CREATE TABLE employee_data(id INTEGER, name TEXT, nickname TEXT, department TEXT, employment_date TEXT)')\n",
    "\n",
    "# cur.executemany를 통해 데이터를 INSERT합니다.\n",
    "cur.executemany(\n",
    "    'INSERT INTO employee_data VALUES (?, ?, ?, ?, ?)',\n",
    "    [(1001, 'Donghyun', 'SOMJANG', 'Development', '2020-04-01 00:00:00.000'),\n",
    "     (2001, 'Sol', 'Fairy', 'Marketing', '2020-04-01 00:00:00.000'),\n",
    "     (2002, 'Jiyoung', 'Magician', 'Marketing', '2020-04-01 00:00:00.000'),\n",
    "     (1002, 'Hyeona', 'Theif', 'Development', '2020-04-01 00:00:00.000'),\n",
    "     (1003, 'Soyoung', 'Chief', 'Development', '2020-04-01 00:00:00.000')\n",
    "    ]\n",
    ")\n",
    "\n",
    "# conn.commit()를 통해 변경사항을 저장합니다.\n",
    "conn.commit()\n",
    "# conn.close()를 통해 db와의 연결 해제합니다.\n",
    "conn.close()"
   ]
  },
  {
   "cell_type": "code",
   "execution_count": 3,
   "id": "633a0892",
   "metadata": {},
   "outputs": [
    {
     "name": "stdout",
     "output_type": "stream",
     "text": [
      "(1001, 'Donghyun', 'SOMJANG', 'Development', '2020-04-01 00:00:00.000')\n",
      "(2001, 'Sol', 'Fairy', 'Marketing', '2020-04-01 00:00:00.000')\n",
      "(2002, 'Jiyoung', 'Magician', 'Marketing', '2020-04-01 00:00:00.000')\n",
      "(1002, 'Hyeona', 'Theif', 'Development', '2020-04-01 00:00:00.000')\n",
      "(1003, 'Soyoung', 'Chief', 'Development', '2020-04-01 00:00:00.000')\n"
     ]
    }
   ],
   "source": [
    "# employee.db 연결\n",
    "conn = sqlite3.connect(\"employee.db\")\n",
    "\n",
    "# cursor를 생성합니다.\n",
    "cur = conn.cursor()\n",
    "\n",
    "# cur.excute를 이용해 SELECT 쿼리를 실행합니다.\n",
    "cur.execute(\"SELECT * FROM employee_data\")\n",
    "\n",
    "# cur.execute를 통해 가져온 모든 결과의 행을 가져와 리스트로 가져온다.\n",
    "rows = cur.fetchall()\n",
    "\n",
    "# 반복문을 통해 하나씩 row를 출력한다.\n",
    "for row in rows:\n",
    "    print(row)\n",
    "    \n",
    "# conn.close()이용해 db와의 연결을 해제합니다.\n",
    "conn.close()"
   ]
  },
  {
   "cell_type": "code",
   "execution_count": 4,
   "id": "a78b2db7",
   "metadata": {},
   "outputs": [],
   "source": [
    "conn.close()"
   ]
  },
  {
   "cell_type": "code",
   "execution_count": 5,
   "id": "6c5f5ba0",
   "metadata": {},
   "outputs": [
    {
     "data": {
      "text/html": [
       "<div>\n",
       "<style scoped>\n",
       "    .dataframe tbody tr th:only-of-type {\n",
       "        vertical-align: middle;\n",
       "    }\n",
       "\n",
       "    .dataframe tbody tr th {\n",
       "        vertical-align: top;\n",
       "    }\n",
       "\n",
       "    .dataframe thead th {\n",
       "        text-align: right;\n",
       "    }\n",
       "</style>\n",
       "<table border=\"1\" class=\"dataframe\">\n",
       "  <thead>\n",
       "    <tr style=\"text-align: right;\">\n",
       "      <th></th>\n",
       "      <th>id</th>\n",
       "      <th>name</th>\n",
       "      <th>nickname</th>\n",
       "      <th>department</th>\n",
       "      <th>employment_date</th>\n",
       "    </tr>\n",
       "  </thead>\n",
       "  <tbody>\n",
       "    <tr>\n",
       "      <th>0</th>\n",
       "      <td>1001</td>\n",
       "      <td>Donghyun</td>\n",
       "      <td>SOMJANG</td>\n",
       "      <td>Development</td>\n",
       "      <td>2020-04-01 00:00:00.000</td>\n",
       "    </tr>\n",
       "    <tr>\n",
       "      <th>1</th>\n",
       "      <td>2001</td>\n",
       "      <td>Sol</td>\n",
       "      <td>Fairy</td>\n",
       "      <td>Marketing</td>\n",
       "      <td>2020-04-01 00:00:00.000</td>\n",
       "    </tr>\n",
       "    <tr>\n",
       "      <th>2</th>\n",
       "      <td>2002</td>\n",
       "      <td>Jiyoung</td>\n",
       "      <td>Magician</td>\n",
       "      <td>Marketing</td>\n",
       "      <td>2020-04-01 00:00:00.000</td>\n",
       "    </tr>\n",
       "    <tr>\n",
       "      <th>3</th>\n",
       "      <td>1002</td>\n",
       "      <td>Hyeona</td>\n",
       "      <td>Theif</td>\n",
       "      <td>Development</td>\n",
       "      <td>2020-04-01 00:00:00.000</td>\n",
       "    </tr>\n",
       "    <tr>\n",
       "      <th>4</th>\n",
       "      <td>1003</td>\n",
       "      <td>Soyoung</td>\n",
       "      <td>Chief</td>\n",
       "      <td>Development</td>\n",
       "      <td>2020-04-01 00:00:00.000</td>\n",
       "    </tr>\n",
       "  </tbody>\n",
       "</table>\n",
       "</div>"
      ],
      "text/plain": [
       "     id      name  nickname   department          employment_date\n",
       "0  1001  Donghyun   SOMJANG  Development  2020-04-01 00:00:00.000\n",
       "1  2001       Sol     Fairy    Marketing  2020-04-01 00:00:00.000\n",
       "2  2002   Jiyoung  Magician    Marketing  2020-04-01 00:00:00.000\n",
       "3  1002    Hyeona     Theif  Development  2020-04-01 00:00:00.000\n",
       "4  1003   Soyoung     Chief  Development  2020-04-01 00:00:00.000"
      ]
     },
     "execution_count": 5,
     "metadata": {},
     "output_type": "execute_result"
    }
   ],
   "source": [
    "# 먼저 DataFrame를 사용하기위해 pandas를 import 하기\n",
    "import pandas as pd\n",
    "\n",
    "# employee.db 연결하기\n",
    "conn = sqlite3.connect(\"employee.db\")\n",
    "\n",
    "# cursor를  생성하기\n",
    "cur = conn.cursor()\n",
    "\n",
    "# cur.execute를 통해 SELRCT 쿼리 실행\n",
    "cur.execute(\"SELECT * FROM employee_data\")\n",
    "\n",
    "# 행 데이터를 가져오기\n",
    "rows = cur.fetchall()\n",
    "\n",
    "# columns열 이름을 가져오기\n",
    "cols = [column[0] for column in cur.description]\n",
    "\n",
    "# 코드를 활요하여 DataFrame을 만들어주기\n",
    "data_df = pd.DataFrame.from_records(data=rows, columns=cols)\n",
    "\n",
    "# conn.close()이용해 db와의 연결을 해제합니다.\n",
    "conn.close()\n",
    "\n",
    "data_df"
   ]
  },
  {
   "cell_type": "code",
   "execution_count": 27,
   "id": "6de02e5d",
   "metadata": {},
   "outputs": [],
   "source": [
    "conn = sqlite3.connect(\"employee.db\") \n",
    "\n",
    "cur = conn.cursor() \n",
    "\n",
    "# conn.execute에 DROP 쿼리를 넣어 실행\n",
    "conn.execute('DROP TABLE employee_data')\n",
    "\n",
    "conn.close()"
   ]
  },
  {
   "cell_type": "code",
   "execution_count": null,
   "id": "de65a5b9",
   "metadata": {},
   "outputs": [],
   "source": []
  },
  {
   "cell_type": "code",
   "execution_count": null,
   "id": "53007ce3",
   "metadata": {},
   "outputs": [],
   "source": []
  }
 ],
 "metadata": {
  "kernelspec": {
   "display_name": "Python 3 (ipykernel)",
   "language": "python",
   "name": "python3"
  },
  "language_info": {
   "codemirror_mode": {
    "name": "ipython",
    "version": 3
   },
   "file_extension": ".py",
   "mimetype": "text/x-python",
   "name": "python",
   "nbconvert_exporter": "python",
   "pygments_lexer": "ipython3",
   "version": "3.8.12"
  }
 },
 "nbformat": 4,
 "nbformat_minor": 5
}
