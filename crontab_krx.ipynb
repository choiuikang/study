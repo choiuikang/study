{
 "cells": [
  {
   "cell_type": "markdown",
   "id": "827dfe3e",
   "metadata": {},
   "source": [
    "# [krx]데이터 자동 수집을 위한 가이드\n",
    "이번에는 주식 데이터를 자동 수집을 해보자. 이번은 간단하게 crontab를 사용해 매일 17시에 실행을 하여 주식 데이터를 수집 할 것이다. 지금은 한가지 주식을 해보지만 다음에는 여러가지의 주식 정보를 수집하는 방법을 블로깅 해보겠다.<br>목차는 다음과 같다.\n",
    "- 주피터 파일 생성 후 데이터 수집 코드 생성\n",
    "- 주피터 파일 파이썬 파일로 변경\n",
    "- crontab을 이용해 월~금 5시 주식 데이터 수집"
   ]
  },
  {
   "cell_type": "markdown",
   "id": "8112f722",
   "metadata": {},
   "source": [
    "## 1. 코드 작성"
   ]
  },
  {
   "cell_type": "markdown",
   "id": "0ebaff65",
   "metadata": {},
   "source": [
    "## 1-1 라이브러리 불러오기"
   ]
  },
  {
   "cell_type": "code",
   "execution_count": 15,
   "id": "c218cce7",
   "metadata": {},
   "outputs": [],
   "source": [
    "import pandas as pd\n",
    "import datetime\n",
    "from pykrx import stock"
   ]
  },
  {
   "cell_type": "markdown",
   "id": "2bb09c51",
   "metadata": {},
   "source": [
    "## 1-2 datetime 불러오기"
   ]
  },
  {
   "cell_type": "code",
   "execution_count": 16,
   "id": "93f89690",
   "metadata": {},
   "outputs": [],
   "source": [
    "today = datetime.datetime.now()"
   ]
  },
  {
   "cell_type": "code",
   "execution_count": 17,
   "id": "4f0d6a70",
   "metadata": {},
   "outputs": [
    {
     "data": {
      "text/plain": [
       "datetime.datetime(2021, 12, 10, 4, 30, 45, 911703)"
      ]
     },
     "execution_count": 17,
     "metadata": {},
     "output_type": "execute_result"
    }
   ],
   "source": [
    "today"
   ]
  },
  {
   "cell_type": "markdown",
   "id": "517ae315",
   "metadata": {},
   "source": [
    "## 1-3 칼럼 추가하기"
   ]
  },
  {
   "cell_type": "code",
   "execution_count": 18,
   "id": "fddaea0b",
   "metadata": {},
   "outputs": [],
   "source": [
    "#datetime_df = pd.DataFrame({'year':[today.year],\n",
    "                         #  'month':[today.month],\n",
    "                          # 'day':[today.day],\n",
    "                         #  'hour':[today.hour],\n",
    "                         #  'minute':[today.minute]})"
   ]
  },
  {
   "cell_type": "code",
   "execution_count": 19,
   "id": "bf2820a9",
   "metadata": {},
   "outputs": [],
   "source": [
    "#datetime_df"
   ]
  },
  {
   "cell_type": "markdown",
   "id": "bd1bfb0a",
   "metadata": {},
   "source": [
    "## 1-4 testerday 데이터 추가하기"
   ]
  },
  {
   "cell_type": "code",
   "execution_count": 20,
   "id": "3e6982b6",
   "metadata": {},
   "outputs": [],
   "source": [
    "yesterday = today - datetime.timedelta(days=1)"
   ]
  },
  {
   "cell_type": "code",
   "execution_count": 21,
   "id": "4e9e0b13",
   "metadata": {},
   "outputs": [
    {
     "data": {
      "text/plain": [
       "datetime.datetime(2021, 12, 9, 4, 30, 45, 911703)"
      ]
     },
     "execution_count": 21,
     "metadata": {},
     "output_type": "execute_result"
    }
   ],
   "source": [
    "yesterday"
   ]
  },
  {
   "cell_type": "markdown",
   "id": "a86b82b2",
   "metadata": {},
   "source": [
    "## 1-5 필요한 년,월,일 데이터 만들기"
   ]
  },
  {
   "cell_type": "code",
   "execution_count": 22,
   "id": "3a2260f3",
   "metadata": {},
   "outputs": [],
   "source": [
    "yesterday = str(yesterday.year) + str(yesterday.month) + str(yesterday.day)\n",
    "today = str(today.year) + str(today.month) + str(today.day)"
   ]
  },
  {
   "cell_type": "code",
   "execution_count": 23,
   "id": "4691fc40",
   "metadata": {},
   "outputs": [
    {
     "data": {
      "text/plain": [
       "'2021129'"
      ]
     },
     "execution_count": 23,
     "metadata": {},
     "output_type": "execute_result"
    }
   ],
   "source": [
    "yesterday"
   ]
  },
  {
   "cell_type": "code",
   "execution_count": 24,
   "id": "e53dc47d",
   "metadata": {},
   "outputs": [
    {
     "data": {
      "text/plain": [
       "'20211210'"
      ]
     },
     "execution_count": 24,
     "metadata": {},
     "output_type": "execute_result"
    }
   ],
   "source": [
    "today"
   ]
  },
  {
   "cell_type": "markdown",
   "id": "e6214d31",
   "metadata": {},
   "source": [
    "## 1-6 주식 데이터 불러오기\n",
    "get_market_ohlcv_by_date( ) 함수를 사용해 데이터를 데이터 프레임 형태로 다운."
   ]
  },
  {
   "cell_type": "code",
   "execution_count": 43,
   "id": "40ed43dd",
   "metadata": {},
   "outputs": [],
   "source": [
    "df = stock.get_market_ohlcv_by_date(fromdate=yesterday, todate=today, ticker=\"005930\")\n",
    "df = df.reset_index()"
   ]
  },
  {
   "cell_type": "code",
   "execution_count": 44,
   "id": "acb6f79f",
   "metadata": {},
   "outputs": [
    {
     "data": {
      "text/html": [
       "<div>\n",
       "<style scoped>\n",
       "    .dataframe tbody tr th:only-of-type {\n",
       "        vertical-align: middle;\n",
       "    }\n",
       "\n",
       "    .dataframe tbody tr th {\n",
       "        vertical-align: top;\n",
       "    }\n",
       "\n",
       "    .dataframe thead th {\n",
       "        text-align: right;\n",
       "    }\n",
       "</style>\n",
       "<table border=\"1\" class=\"dataframe\">\n",
       "  <thead>\n",
       "    <tr style=\"text-align: right;\">\n",
       "      <th></th>\n",
       "      <th>날짜</th>\n",
       "      <th>시가</th>\n",
       "      <th>고가</th>\n",
       "      <th>저가</th>\n",
       "      <th>종가</th>\n",
       "      <th>거래량</th>\n",
       "    </tr>\n",
       "  </thead>\n",
       "  <tbody>\n",
       "    <tr>\n",
       "      <th>0</th>\n",
       "      <td>2021-12-10</td>\n",
       "      <td>77400</td>\n",
       "      <td>77600</td>\n",
       "      <td>76900</td>\n",
       "      <td>77000</td>\n",
       "      <td>6124711</td>\n",
       "    </tr>\n",
       "  </tbody>\n",
       "</table>\n",
       "</div>"
      ],
      "text/plain": [
       "          날짜     시가     고가     저가     종가      거래량\n",
       "0 2021-12-10  77400  77600  76900  77000  6124711"
      ]
     },
     "execution_count": 44,
     "metadata": {},
     "output_type": "execute_result"
    }
   ],
   "source": [
    "df"
   ]
  },
  {
   "cell_type": "code",
   "execution_count": 45,
   "id": "f8cc191c",
   "metadata": {},
   "outputs": [],
   "source": [
    "df.to_csv('crontab_krx.csv', mode ='a', header = False)"
   ]
  },
  {
   "cell_type": "code",
   "execution_count": 46,
   "id": "bec4b048",
   "metadata": {},
   "outputs": [
    {
     "data": {
      "text/html": [
       "<div>\n",
       "<style scoped>\n",
       "    .dataframe tbody tr th:only-of-type {\n",
       "        vertical-align: middle;\n",
       "    }\n",
       "\n",
       "    .dataframe tbody tr th {\n",
       "        vertical-align: top;\n",
       "    }\n",
       "\n",
       "    .dataframe thead th {\n",
       "        text-align: right;\n",
       "    }\n",
       "</style>\n",
       "<table border=\"1\" class=\"dataframe\">\n",
       "  <thead>\n",
       "    <tr style=\"text-align: right;\">\n",
       "      <th></th>\n",
       "      <th>0</th>\n",
       "      <th>2021-12-10</th>\n",
       "      <th>77400</th>\n",
       "      <th>77600</th>\n",
       "      <th>76900</th>\n",
       "      <th>77000</th>\n",
       "      <th>6065095</th>\n",
       "    </tr>\n",
       "  </thead>\n",
       "  <tbody>\n",
       "    <tr>\n",
       "      <th>0</th>\n",
       "      <td>0</td>\n",
       "      <td>2021-12-10</td>\n",
       "      <td>77400</td>\n",
       "      <td>77600</td>\n",
       "      <td>76900</td>\n",
       "      <td>77000</td>\n",
       "      <td>6124711</td>\n",
       "    </tr>\n",
       "  </tbody>\n",
       "</table>\n",
       "</div>"
      ],
      "text/plain": [
       "   0  2021-12-10  77400  77600  76900  77000  6065095\n",
       "0  0  2021-12-10  77400  77600  76900  77000  6124711"
      ]
     },
     "execution_count": 46,
     "metadata": {},
     "output_type": "execute_result"
    }
   ],
   "source": [
    "df_stock = pd.read_csv(\"crontab_krx.csv\")\n",
    "df_stock"
   ]
  },
  {
   "cell_type": "markdown",
   "id": "e8af63e3",
   "metadata": {},
   "source": [
    "# 2. 리눅스 크론탭 사용\n",
    "## 2-1 주피터 파일 파이썬으로 변경"
   ]
  },
  {
   "cell_type": "markdown",
   "id": "50fa5b72",
   "metadata": {},
   "source": [
    "$ jupyter nbconvert --to script 파일명.ipynb"
   ]
  },
  {
   "cell_type": "markdown",
   "id": "c9a84e56",
   "metadata": {},
   "source": [
    "자 이렇게 파이썬 파일로 변경 후 크론탭으로 주기 설정 및 코드 입력을 해보도록 하자."
   ]
  },
  {
   "cell_type": "markdown",
   "id": "29040112",
   "metadata": {},
   "source": [
    "## 2-2 리눅스 명령어 설정\n",
    "- corntab - e 코드로 크론탭 설정창 이동 후 제일 밑으로 내려가 명령어 입력!\n",
    "- 설정창 입력 방법은 a를 눌러 INSERT 모드 변경 후 입력\n",
    "- 저장 후 나가는 방법은 Esc -> : -> wq(저장하고 나가기) -> Enter 나가기!\n",
    "- 주기 설정 월요일~금요일 17시 마다 실행"
   ]
  },
  {
   "attachments": {
    "image.png": {
     "image/png": "[encoded data removed]"
    }
   },
   "cell_type": "markdown",
   "id": "e98cc88f",
   "metadata": {},
   "source": [
    "![image.png](attachment:image.png)"
   ]
  },
  {
   "cell_type": "markdown",
   "id": "6ea95ee9",
   "metadata": {},
   "source": [
    "# 3. 확인"
   ]
  },
  {
   "attachments": {
    "image.png": {
     "image/png": "[encoded data removed]"
    }
   },
   "cell_type": "markdown",
   "id": "664b806a",
   "metadata": {},
   "source": [
    "![image.png](attachment:image.png)"
   ]
  },
  {
   "cell_type": "markdown",
   "id": "be4f0626",
   "metadata": {},
   "source": [
    "내일 17시에 잘 실행되기를 기도하며!!!!! 마무리!!!!"
   ]
  },
  {
   "cell_type": "markdown",
   "id": "2999b5e8",
   "metadata": {},
   "source": [
    "이렇게 마무리를 하고 다음은 sqlte3를 이용하여 DB에 자동으로 적재하는 법을 해보겠다. 그전 datetime을 크론탭,sqlte3를 활용한 가이드 링크를 남겨두겠다. 참고 하며 블로깅을 만들어 보도록 하겠다. "
   ]
  }
 ],
 "metadata": {
  "kernelspec": {
   "display_name": "Python 3 (ipykernel)",
   "language": "python",
   "name": "python3"
  },
  "language_info": {
   "codemirror_mode": {
    "name": "ipython",
    "version": 3
   },
   "file_extension": ".py",
   "mimetype": "text/x-python",
   "name": "python",
   "nbconvert_exporter": "python",
   "pygments_lexer": "ipython3",
   "version": "3.8.12"
  }
 },
 "nbformat": 4,
 "nbformat_minor": 5
}
