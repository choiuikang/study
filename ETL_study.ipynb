{
 "cells": [
  {
   "cell_type": "markdown",
   "id": "aeea42c2",
   "metadata": {},
   "source": [
    "# ETL (Extract Transform Load)\n",
    "ETL은 추출(Extract), 변환(Transform), 적재(Load)를 뜻한다. 컴퓨팅에서 데이터베이스 이용의 한 과정으로 특히 데이터 웨어하우스에서 다음을 말한다. 이는 데이터를 다루는 IT쪽 용어이다.\n",
    "- 동일 기종 또는 타기종의 데이터 소스로부터 데이터를 추출.\n",
    "- 조회 또는 분석을 목적으로 데이터를 적절한 포맷이나 구조로 데이터를 저장하기 위해 데이터를 변환.\n",
    "- 변환 데이터를 적재."
   ]
  },
  {
   "cell_type": "markdown",
   "id": "4e8153b2",
   "metadata": {},
   "source": [
    "# 일단 데이터를 불러서 와서 하나씩 해보자."
   ]
  },
  {
   "cell_type": "code",
   "execution_count": 12,
   "id": "e559d299",
   "metadata": {},
   "outputs": [],
   "source": [
    "import pandas as pd"
   ]
  },
  {
   "cell_type": "code",
   "execution_count": 25,
   "id": "f4fa26ad",
   "metadata": {},
   "outputs": [],
   "source": [
    "df = pd.read_csv(\"ranging_stock_df_python3.csv\")"
   ]
  },
  {
   "cell_type": "code",
   "execution_count": 26,
   "id": "f1f9bf1a",
   "metadata": {},
   "outputs": [
    {
     "data": {
      "text/html": [
       "<div>\n",
       "<style scoped>\n",
       "    .dataframe tbody tr th:only-of-type {\n",
       "        vertical-align: middle;\n",
       "    }\n",
       "\n",
       "    .dataframe tbody tr th {\n",
       "        vertical-align: top;\n",
       "    }\n",
       "\n",
       "    .dataframe thead th {\n",
       "        text-align: right;\n",
       "    }\n",
       "</style>\n",
       "<table border=\"1\" class=\"dataframe\">\n",
       "  <thead>\n",
       "    <tr style=\"text-align: right;\">\n",
       "      <th></th>\n",
       "      <th>날짜</th>\n",
       "      <th>시가</th>\n",
       "      <th>고가</th>\n",
       "      <th>저가</th>\n",
       "      <th>종가</th>\n",
       "      <th>거래량</th>\n",
       "      <th>종목명</th>\n",
       "      <th>종목코드</th>\n",
       "      <th>시장구분</th>\n",
       "    </tr>\n",
       "  </thead>\n",
       "  <tbody>\n",
       "    <tr>\n",
       "      <th>0</th>\n",
       "      <td>2021-11-01</td>\n",
       "      <td>4200</td>\n",
       "      <td>4245</td>\n",
       "      <td>4100</td>\n",
       "      <td>4110</td>\n",
       "      <td>236625</td>\n",
       "      <td>3S</td>\n",
       "      <td>60310</td>\n",
       "      <td>KOSDAQ</td>\n",
       "    </tr>\n",
       "    <tr>\n",
       "      <th>1</th>\n",
       "      <td>2021-11-02</td>\n",
       "      <td>4095</td>\n",
       "      <td>4385</td>\n",
       "      <td>4095</td>\n",
       "      <td>4200</td>\n",
       "      <td>190736</td>\n",
       "      <td>3S</td>\n",
       "      <td>60310</td>\n",
       "      <td>KOSDAQ</td>\n",
       "    </tr>\n",
       "    <tr>\n",
       "      <th>2</th>\n",
       "      <td>2021-11-03</td>\n",
       "      <td>4240</td>\n",
       "      <td>4245</td>\n",
       "      <td>4115</td>\n",
       "      <td>4180</td>\n",
       "      <td>204441</td>\n",
       "      <td>3S</td>\n",
       "      <td>60310</td>\n",
       "      <td>KOSDAQ</td>\n",
       "    </tr>\n",
       "    <tr>\n",
       "      <th>3</th>\n",
       "      <td>2021-11-04</td>\n",
       "      <td>4205</td>\n",
       "      <td>4215</td>\n",
       "      <td>4110</td>\n",
       "      <td>4115</td>\n",
       "      <td>131216</td>\n",
       "      <td>3S</td>\n",
       "      <td>60310</td>\n",
       "      <td>KOSDAQ</td>\n",
       "    </tr>\n",
       "    <tr>\n",
       "      <th>4</th>\n",
       "      <td>2021-11-05</td>\n",
       "      <td>4080</td>\n",
       "      <td>4130</td>\n",
       "      <td>3960</td>\n",
       "      <td>3985</td>\n",
       "      <td>295209</td>\n",
       "      <td>3S</td>\n",
       "      <td>60310</td>\n",
       "      <td>KOSDAQ</td>\n",
       "    </tr>\n",
       "    <tr>\n",
       "      <th>...</th>\n",
       "      <td>...</td>\n",
       "      <td>...</td>\n",
       "      <td>...</td>\n",
       "      <td>...</td>\n",
       "      <td>...</td>\n",
       "      <td>...</td>\n",
       "      <td>...</td>\n",
       "      <td>...</td>\n",
       "      <td>...</td>\n",
       "    </tr>\n",
       "    <tr>\n",
       "      <th>225</th>\n",
       "      <td>2021-11-25</td>\n",
       "      <td>24200</td>\n",
       "      <td>24250</td>\n",
       "      <td>23700</td>\n",
       "      <td>23900</td>\n",
       "      <td>92853</td>\n",
       "      <td>AP시스템</td>\n",
       "      <td>265520</td>\n",
       "      <td>KOSDAQ</td>\n",
       "    </tr>\n",
       "    <tr>\n",
       "      <th>226</th>\n",
       "      <td>2021-11-26</td>\n",
       "      <td>23950</td>\n",
       "      <td>24000</td>\n",
       "      <td>22950</td>\n",
       "      <td>23100</td>\n",
       "      <td>183281</td>\n",
       "      <td>AP시스템</td>\n",
       "      <td>265520</td>\n",
       "      <td>KOSDAQ</td>\n",
       "    </tr>\n",
       "    <tr>\n",
       "      <th>227</th>\n",
       "      <td>2021-11-29</td>\n",
       "      <td>22350</td>\n",
       "      <td>22900</td>\n",
       "      <td>22300</td>\n",
       "      <td>22500</td>\n",
       "      <td>153163</td>\n",
       "      <td>AP시스템</td>\n",
       "      <td>265520</td>\n",
       "      <td>KOSDAQ</td>\n",
       "    </tr>\n",
       "    <tr>\n",
       "      <th>228</th>\n",
       "      <td>2021-11-30</td>\n",
       "      <td>22750</td>\n",
       "      <td>23100</td>\n",
       "      <td>21000</td>\n",
       "      <td>21300</td>\n",
       "      <td>546017</td>\n",
       "      <td>AP시스템</td>\n",
       "      <td>265520</td>\n",
       "      <td>KOSDAQ</td>\n",
       "    </tr>\n",
       "    <tr>\n",
       "      <th>229</th>\n",
       "      <td>2021-12-01</td>\n",
       "      <td>21350</td>\n",
       "      <td>22400</td>\n",
       "      <td>20900</td>\n",
       "      <td>21800</td>\n",
       "      <td>146208</td>\n",
       "      <td>AP시스템</td>\n",
       "      <td>265520</td>\n",
       "      <td>KOSDAQ</td>\n",
       "    </tr>\n",
       "  </tbody>\n",
       "</table>\n",
       "<p>230 rows × 9 columns</p>\n",
       "</div>"
      ],
      "text/plain": [
       "             날짜     시가     고가     저가     종가     거래량    종목명    종목코드    시장구분\n",
       "0    2021-11-01   4200   4245   4100   4110  236625     3S   60310  KOSDAQ\n",
       "1    2021-11-02   4095   4385   4095   4200  190736     3S   60310  KOSDAQ\n",
       "2    2021-11-03   4240   4245   4115   4180  204441     3S   60310  KOSDAQ\n",
       "3    2021-11-04   4205   4215   4110   4115  131216     3S   60310  KOSDAQ\n",
       "4    2021-11-05   4080   4130   3960   3985  295209     3S   60310  KOSDAQ\n",
       "..          ...    ...    ...    ...    ...     ...    ...     ...     ...\n",
       "225  2021-11-25  24200  24250  23700  23900   92853  AP시스템  265520  KOSDAQ\n",
       "226  2021-11-26  23950  24000  22950  23100  183281  AP시스템  265520  KOSDAQ\n",
       "227  2021-11-29  22350  22900  22300  22500  153163  AP시스템  265520  KOSDAQ\n",
       "228  2021-11-30  22750  23100  21000  21300  546017  AP시스템  265520  KOSDAQ\n",
       "229  2021-12-01  21350  22400  20900  21800  146208  AP시스템  265520  KOSDAQ\n",
       "\n",
       "[230 rows x 9 columns]"
      ]
     },
     "execution_count": 26,
     "metadata": {},
     "output_type": "execute_result"
    }
   ],
   "source": [
    "df"
   ]
  },
  {
   "cell_type": "markdown",
   "id": "59fd038d",
   "metadata": {},
   "source": [
    "# 1. 추출(Extract)\n",
    "필요한데이터 칼럼을 추출한다고 이해하도록 하자.<br>\n",
    "필요한 데이터는 종목명, 종목코드, 시장구분이다 이것을 이용해 나중에 날짜를 넣어 주식데이터를 불러올것이다. 링크는 아래 링크를 참고하자.\n",
    "- [주식 정보 수집을 위한 사전준비 및 연습](https://uikang.tistory.com/88)\n",
    "- [[python]외부변수 설정](https://uikang.tistory.com/93)"
   ]
  },
  {
   "cell_type": "code",
   "execution_count": 34,
   "id": "7e3dc2eb",
   "metadata": {},
   "outputs": [],
   "source": [
    "df_extract = df[[\"종목명\",\"종목코드\",\"시장구분\"]]"
   ]
  },
  {
   "cell_type": "code",
   "execution_count": 35,
   "id": "e6fcdc2c",
   "metadata": {},
   "outputs": [
    {
     "data": {
      "text/html": [
       "<div>\n",
       "<style scoped>\n",
       "    .dataframe tbody tr th:only-of-type {\n",
       "        vertical-align: middle;\n",
       "    }\n",
       "\n",
       "    .dataframe tbody tr th {\n",
       "        vertical-align: top;\n",
       "    }\n",
       "\n",
       "    .dataframe thead th {\n",
       "        text-align: right;\n",
       "    }\n",
       "</style>\n",
       "<table border=\"1\" class=\"dataframe\">\n",
       "  <thead>\n",
       "    <tr style=\"text-align: right;\">\n",
       "      <th></th>\n",
       "      <th>종목명</th>\n",
       "      <th>종목코드</th>\n",
       "      <th>시장구분</th>\n",
       "    </tr>\n",
       "  </thead>\n",
       "  <tbody>\n",
       "    <tr>\n",
       "      <th>0</th>\n",
       "      <td>3S</td>\n",
       "      <td>60310</td>\n",
       "      <td>KOSDAQ</td>\n",
       "    </tr>\n",
       "    <tr>\n",
       "      <th>1</th>\n",
       "      <td>3S</td>\n",
       "      <td>60310</td>\n",
       "      <td>KOSDAQ</td>\n",
       "    </tr>\n",
       "    <tr>\n",
       "      <th>2</th>\n",
       "      <td>3S</td>\n",
       "      <td>60310</td>\n",
       "      <td>KOSDAQ</td>\n",
       "    </tr>\n",
       "    <tr>\n",
       "      <th>3</th>\n",
       "      <td>3S</td>\n",
       "      <td>60310</td>\n",
       "      <td>KOSDAQ</td>\n",
       "    </tr>\n",
       "    <tr>\n",
       "      <th>4</th>\n",
       "      <td>3S</td>\n",
       "      <td>60310</td>\n",
       "      <td>KOSDAQ</td>\n",
       "    </tr>\n",
       "    <tr>\n",
       "      <th>...</th>\n",
       "      <td>...</td>\n",
       "      <td>...</td>\n",
       "      <td>...</td>\n",
       "    </tr>\n",
       "    <tr>\n",
       "      <th>225</th>\n",
       "      <td>AP시스템</td>\n",
       "      <td>265520</td>\n",
       "      <td>KOSDAQ</td>\n",
       "    </tr>\n",
       "    <tr>\n",
       "      <th>226</th>\n",
       "      <td>AP시스템</td>\n",
       "      <td>265520</td>\n",
       "      <td>KOSDAQ</td>\n",
       "    </tr>\n",
       "    <tr>\n",
       "      <th>227</th>\n",
       "      <td>AP시스템</td>\n",
       "      <td>265520</td>\n",
       "      <td>KOSDAQ</td>\n",
       "    </tr>\n",
       "    <tr>\n",
       "      <th>228</th>\n",
       "      <td>AP시스템</td>\n",
       "      <td>265520</td>\n",
       "      <td>KOSDAQ</td>\n",
       "    </tr>\n",
       "    <tr>\n",
       "      <th>229</th>\n",
       "      <td>AP시스템</td>\n",
       "      <td>265520</td>\n",
       "      <td>KOSDAQ</td>\n",
       "    </tr>\n",
       "  </tbody>\n",
       "</table>\n",
       "<p>230 rows × 3 columns</p>\n",
       "</div>"
      ],
      "text/plain": [
       "       종목명    종목코드    시장구분\n",
       "0       3S   60310  KOSDAQ\n",
       "1       3S   60310  KOSDAQ\n",
       "2       3S   60310  KOSDAQ\n",
       "3       3S   60310  KOSDAQ\n",
       "4       3S   60310  KOSDAQ\n",
       "..     ...     ...     ...\n",
       "225  AP시스템  265520  KOSDAQ\n",
       "226  AP시스템  265520  KOSDAQ\n",
       "227  AP시스템  265520  KOSDAQ\n",
       "228  AP시스템  265520  KOSDAQ\n",
       "229  AP시스템  265520  KOSDAQ\n",
       "\n",
       "[230 rows x 3 columns]"
      ]
     },
     "execution_count": 35,
     "metadata": {},
     "output_type": "execute_result"
    }
   ],
   "source": [
    "df_extract"
   ]
  },
  {
   "cell_type": "markdown",
   "id": "ca1bd52b",
   "metadata": {},
   "source": [
    "# 2. 변환(Transform)\n",
    "이제 중복된것을 .drop_duplicates()함수를 이용해 하나만 남겨서 변환하자. <br>\n",
    "또한 인덱스 순서가 엉망인것을 볼 수 있다. 인덱스 재배열을 하여 변환하자."
   ]
  },
  {
   "cell_type": "code",
   "execution_count": 54,
   "id": "d59b92e0",
   "metadata": {},
   "outputs": [],
   "source": [
    "df_transform = df_extract[['종목명','종목코드','시장구분']].drop_duplicates()"
   ]
  },
  {
   "cell_type": "code",
   "execution_count": 55,
   "id": "cd6c8cea",
   "metadata": {},
   "outputs": [
    {
     "data": {
      "text/html": [
       "<div>\n",
       "<style scoped>\n",
       "    .dataframe tbody tr th:only-of-type {\n",
       "        vertical-align: middle;\n",
       "    }\n",
       "\n",
       "    .dataframe tbody tr th {\n",
       "        vertical-align: top;\n",
       "    }\n",
       "\n",
       "    .dataframe thead th {\n",
       "        text-align: right;\n",
       "    }\n",
       "</style>\n",
       "<table border=\"1\" class=\"dataframe\">\n",
       "  <thead>\n",
       "    <tr style=\"text-align: right;\">\n",
       "      <th></th>\n",
       "      <th>종목명</th>\n",
       "      <th>종목코드</th>\n",
       "      <th>시장구분</th>\n",
       "    </tr>\n",
       "  </thead>\n",
       "  <tbody>\n",
       "    <tr>\n",
       "      <th>0</th>\n",
       "      <td>3S</td>\n",
       "      <td>60310</td>\n",
       "      <td>KOSDAQ</td>\n",
       "    </tr>\n",
       "    <tr>\n",
       "      <th>23</th>\n",
       "      <td>AJ네트웍스</td>\n",
       "      <td>95570</td>\n",
       "      <td>KOSPI</td>\n",
       "    </tr>\n",
       "    <tr>\n",
       "      <th>46</th>\n",
       "      <td>AK홀딩스</td>\n",
       "      <td>6840</td>\n",
       "      <td>KOSPI</td>\n",
       "    </tr>\n",
       "    <tr>\n",
       "      <th>69</th>\n",
       "      <td>APS홀딩스</td>\n",
       "      <td>54620</td>\n",
       "      <td>KOSDAQ</td>\n",
       "    </tr>\n",
       "    <tr>\n",
       "      <th>92</th>\n",
       "      <td>AP시스템</td>\n",
       "      <td>265520</td>\n",
       "      <td>KOSDAQ</td>\n",
       "    </tr>\n",
       "  </tbody>\n",
       "</table>\n",
       "</div>"
      ],
      "text/plain": [
       "       종목명    종목코드    시장구분\n",
       "0       3S   60310  KOSDAQ\n",
       "23  AJ네트웍스   95570   KOSPI\n",
       "46   AK홀딩스    6840   KOSPI\n",
       "69  APS홀딩스   54620  KOSDAQ\n",
       "92   AP시스템  265520  KOSDAQ"
      ]
     },
     "execution_count": 55,
     "metadata": {},
     "output_type": "execute_result"
    }
   ],
   "source": [
    "df_transform"
   ]
  },
  {
   "cell_type": "code",
   "execution_count": 56,
   "id": "c6301771",
   "metadata": {},
   "outputs": [],
   "source": [
    "df_transform = df_transform.reset_index(drop = True)"
   ]
  },
  {
   "cell_type": "code",
   "execution_count": 57,
   "id": "5732e8f9",
   "metadata": {
    "scrolled": true
   },
   "outputs": [
    {
     "data": {
      "text/html": [
       "<div>\n",
       "<style scoped>\n",
       "    .dataframe tbody tr th:only-of-type {\n",
       "        vertical-align: middle;\n",
       "    }\n",
       "\n",
       "    .dataframe tbody tr th {\n",
       "        vertical-align: top;\n",
       "    }\n",
       "\n",
       "    .dataframe thead th {\n",
       "        text-align: right;\n",
       "    }\n",
       "</style>\n",
       "<table border=\"1\" class=\"dataframe\">\n",
       "  <thead>\n",
       "    <tr style=\"text-align: right;\">\n",
       "      <th></th>\n",
       "      <th>종목명</th>\n",
       "      <th>종목코드</th>\n",
       "      <th>시장구분</th>\n",
       "    </tr>\n",
       "  </thead>\n",
       "  <tbody>\n",
       "    <tr>\n",
       "      <th>0</th>\n",
       "      <td>3S</td>\n",
       "      <td>60310</td>\n",
       "      <td>KOSDAQ</td>\n",
       "    </tr>\n",
       "    <tr>\n",
       "      <th>1</th>\n",
       "      <td>AJ네트웍스</td>\n",
       "      <td>95570</td>\n",
       "      <td>KOSPI</td>\n",
       "    </tr>\n",
       "    <tr>\n",
       "      <th>2</th>\n",
       "      <td>AK홀딩스</td>\n",
       "      <td>6840</td>\n",
       "      <td>KOSPI</td>\n",
       "    </tr>\n",
       "    <tr>\n",
       "      <th>3</th>\n",
       "      <td>APS홀딩스</td>\n",
       "      <td>54620</td>\n",
       "      <td>KOSDAQ</td>\n",
       "    </tr>\n",
       "    <tr>\n",
       "      <th>4</th>\n",
       "      <td>AP시스템</td>\n",
       "      <td>265520</td>\n",
       "      <td>KOSDAQ</td>\n",
       "    </tr>\n",
       "  </tbody>\n",
       "</table>\n",
       "</div>"
      ],
      "text/plain": [
       "      종목명    종목코드    시장구분\n",
       "0      3S   60310  KOSDAQ\n",
       "1  AJ네트웍스   95570   KOSPI\n",
       "2   AK홀딩스    6840   KOSPI\n",
       "3  APS홀딩스   54620  KOSDAQ\n",
       "4   AP시스템  265520  KOSDAQ"
      ]
     },
     "execution_count": 57,
     "metadata": {},
     "output_type": "execute_result"
    }
   ],
   "source": [
    "df_transform"
   ]
  },
  {
   "cell_type": "markdown",
   "id": "a07c0e64",
   "metadata": {},
   "source": [
    "# 3. 적재(Load)\n",
    "이제 변환이 끝났으니 DB로 적재해보도록 하자. "
   ]
  },
  {
   "cell_type": "code",
   "execution_count": 59,
   "id": "8f75fb75",
   "metadata": {},
   "outputs": [],
   "source": [
    "import sqlite3 "
   ]
  },
  {
   "cell_type": "code",
   "execution_count": 60,
   "id": "86e7e1d5",
   "metadata": {},
   "outputs": [],
   "source": [
    "con = sqlite3.connect(\"ETL.db\")"
   ]
  },
  {
   "cell_type": "code",
   "execution_count": 61,
   "id": "4e9ec403",
   "metadata": {},
   "outputs": [],
   "source": [
    "df_transform.to_sql(\"ETL_table\",con, index=False, if_exists=\"replace\")"
   ]
  },
  {
   "cell_type": "code",
   "execution_count": 62,
   "id": "aa3b3f9e",
   "metadata": {},
   "outputs": [],
   "source": [
    "cur = con.cursor()"
   ]
  },
  {
   "cell_type": "code",
   "execution_count": 63,
   "id": "b14882be",
   "metadata": {},
   "outputs": [
    {
     "data": {
      "text/plain": [
       "<sqlite3.Cursor at 0x7f76b3edfd50>"
      ]
     },
     "execution_count": 63,
     "metadata": {},
     "output_type": "execute_result"
    }
   ],
   "source": [
    "cur.execute(\"SELECT * FROM ETL_table\")"
   ]
  },
  {
   "cell_type": "code",
   "execution_count": 64,
   "id": "5506a9b2",
   "metadata": {},
   "outputs": [],
   "source": [
    "df_load = pd.read_sql(\"SELECT * FROM ETL_table\", con)"
   ]
  },
  {
   "cell_type": "code",
   "execution_count": 65,
   "id": "08a75d0f",
   "metadata": {},
   "outputs": [
    {
     "data": {
      "text/html": [
       "<div>\n",
       "<style scoped>\n",
       "    .dataframe tbody tr th:only-of-type {\n",
       "        vertical-align: middle;\n",
       "    }\n",
       "\n",
       "    .dataframe tbody tr th {\n",
       "        vertical-align: top;\n",
       "    }\n",
       "\n",
       "    .dataframe thead th {\n",
       "        text-align: right;\n",
       "    }\n",
       "</style>\n",
       "<table border=\"1\" class=\"dataframe\">\n",
       "  <thead>\n",
       "    <tr style=\"text-align: right;\">\n",
       "      <th></th>\n",
       "      <th>종목명</th>\n",
       "      <th>종목코드</th>\n",
       "      <th>시장구분</th>\n",
       "    </tr>\n",
       "  </thead>\n",
       "  <tbody>\n",
       "    <tr>\n",
       "      <th>0</th>\n",
       "      <td>3S</td>\n",
       "      <td>60310</td>\n",
       "      <td>KOSDAQ</td>\n",
       "    </tr>\n",
       "    <tr>\n",
       "      <th>1</th>\n",
       "      <td>AJ네트웍스</td>\n",
       "      <td>95570</td>\n",
       "      <td>KOSPI</td>\n",
       "    </tr>\n",
       "    <tr>\n",
       "      <th>2</th>\n",
       "      <td>AK홀딩스</td>\n",
       "      <td>6840</td>\n",
       "      <td>KOSPI</td>\n",
       "    </tr>\n",
       "    <tr>\n",
       "      <th>3</th>\n",
       "      <td>APS홀딩스</td>\n",
       "      <td>54620</td>\n",
       "      <td>KOSDAQ</td>\n",
       "    </tr>\n",
       "    <tr>\n",
       "      <th>4</th>\n",
       "      <td>AP시스템</td>\n",
       "      <td>265520</td>\n",
       "      <td>KOSDAQ</td>\n",
       "    </tr>\n",
       "  </tbody>\n",
       "</table>\n",
       "</div>"
      ],
      "text/plain": [
       "      종목명    종목코드    시장구분\n",
       "0      3S   60310  KOSDAQ\n",
       "1  AJ네트웍스   95570   KOSPI\n",
       "2   AK홀딩스    6840   KOSPI\n",
       "3  APS홀딩스   54620  KOSDAQ\n",
       "4   AP시스템  265520  KOSDAQ"
      ]
     },
     "execution_count": 65,
     "metadata": {},
     "output_type": "execute_result"
    }
   ],
   "source": [
    "df_load"
   ]
  },
  {
   "cell_type": "code",
   "execution_count": 72,
   "id": "69ea01d0",
   "metadata": {},
   "outputs": [],
   "source": [
    "con.commit()"
   ]
  },
  {
   "cell_type": "code",
   "execution_count": 75,
   "id": "5f37466c",
   "metadata": {},
   "outputs": [],
   "source": [
    "con.close()"
   ]
  },
  {
   "cell_type": "markdown",
   "id": "e33d9106",
   "metadata": {},
   "source": [
    "# 4. 확인"
   ]
  },
  {
   "cell_type": "code",
   "execution_count": 77,
   "id": "00eea0fe",
   "metadata": {},
   "outputs": [],
   "source": [
    "con = sqlite3.connect(\"ETL.db\")"
   ]
  },
  {
   "cell_type": "code",
   "execution_count": 79,
   "id": "507bc0ca",
   "metadata": {},
   "outputs": [],
   "source": [
    "cur = con.cursor()"
   ]
  },
  {
   "cell_type": "code",
   "execution_count": 81,
   "id": "5e57c82a",
   "metadata": {},
   "outputs": [
    {
     "data": {
      "text/plain": [
       "<sqlite3.Cursor at 0x7f76b3de8f10>"
      ]
     },
     "execution_count": 81,
     "metadata": {},
     "output_type": "execute_result"
    }
   ],
   "source": [
    "cur.execute(\"SELECT * FROM ETL_table\")"
   ]
  },
  {
   "cell_type": "code",
   "execution_count": 82,
   "id": "e251f997",
   "metadata": {},
   "outputs": [],
   "source": [
    "df_col = pd.read_sql(\"SELECT * FROM ETL_table\", con)"
   ]
  },
  {
   "cell_type": "code",
   "execution_count": 83,
   "id": "8b0dd5a1",
   "metadata": {},
   "outputs": [
    {
     "data": {
      "text/html": [
       "<div>\n",
       "<style scoped>\n",
       "    .dataframe tbody tr th:only-of-type {\n",
       "        vertical-align: middle;\n",
       "    }\n",
       "\n",
       "    .dataframe tbody tr th {\n",
       "        vertical-align: top;\n",
       "    }\n",
       "\n",
       "    .dataframe thead th {\n",
       "        text-align: right;\n",
       "    }\n",
       "</style>\n",
       "<table border=\"1\" class=\"dataframe\">\n",
       "  <thead>\n",
       "    <tr style=\"text-align: right;\">\n",
       "      <th></th>\n",
       "      <th>종목명</th>\n",
       "      <th>종목코드</th>\n",
       "      <th>시장구분</th>\n",
       "    </tr>\n",
       "  </thead>\n",
       "  <tbody>\n",
       "    <tr>\n",
       "      <th>0</th>\n",
       "      <td>3S</td>\n",
       "      <td>60310</td>\n",
       "      <td>KOSDAQ</td>\n",
       "    </tr>\n",
       "    <tr>\n",
       "      <th>1</th>\n",
       "      <td>AJ네트웍스</td>\n",
       "      <td>95570</td>\n",
       "      <td>KOSPI</td>\n",
       "    </tr>\n",
       "    <tr>\n",
       "      <th>2</th>\n",
       "      <td>AK홀딩스</td>\n",
       "      <td>6840</td>\n",
       "      <td>KOSPI</td>\n",
       "    </tr>\n",
       "    <tr>\n",
       "      <th>3</th>\n",
       "      <td>APS홀딩스</td>\n",
       "      <td>54620</td>\n",
       "      <td>KOSDAQ</td>\n",
       "    </tr>\n",
       "    <tr>\n",
       "      <th>4</th>\n",
       "      <td>AP시스템</td>\n",
       "      <td>265520</td>\n",
       "      <td>KOSDAQ</td>\n",
       "    </tr>\n",
       "  </tbody>\n",
       "</table>\n",
       "</div>"
      ],
      "text/plain": [
       "      종목명    종목코드    시장구분\n",
       "0      3S   60310  KOSDAQ\n",
       "1  AJ네트웍스   95570   KOSPI\n",
       "2   AK홀딩스    6840   KOSPI\n",
       "3  APS홀딩스   54620  KOSDAQ\n",
       "4   AP시스템  265520  KOSDAQ"
      ]
     },
     "execution_count": 83,
     "metadata": {},
     "output_type": "execute_result"
    }
   ],
   "source": [
    "df_col"
   ]
  },
  {
   "cell_type": "code",
   "execution_count": 84,
   "id": "5380f05d",
   "metadata": {},
   "outputs": [],
   "source": [
    "con.close()"
   ]
  },
  {
   "cell_type": "markdown",
   "id": "9e105dfc",
   "metadata": {},
   "source": [
    "이렇게 ETL에 대해서 간단하게 알아보았는데 하지만!!!!!!!! 많은 데이터 용어들이 남았다. 차근차근 알아가며 블로그에 많이 올려두어 기억하도록 하자."
   ]
  }
 ],
 "metadata": {
  "kernelspec": {
   "display_name": "Python 3 (ipykernel)",
   "language": "python",
   "name": "python3"
  },
  "language_info": {
   "codemirror_mode": {
    "name": "ipython",
    "version": 3
   },
   "file_extension": ".py",
   "mimetype": "text/x-python",
   "name": "python",
   "nbconvert_exporter": "python",
   "pygments_lexer": "ipython3",
   "version": "3.8.12"
  }
 },
 "nbformat": 4,
 "nbformat_minor": 5
}
