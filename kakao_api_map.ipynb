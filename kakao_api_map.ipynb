{
 "cells": [
  {
   "cell_type": "code",
   "execution_count": 67,
   "id": "66530717",
   "metadata": {},
   "outputs": [],
   "source": [
    "import json\n",
    "import requests"
   ]
  },
  {
   "cell_type": "code",
   "execution_count": 68,
   "id": "3ae0eb3b",
   "metadata": {},
   "outputs": [],
   "source": [
    "api_key = \"7daa97882e20c12a93ba8f344eeb92de\""
   ]
  },
  {
   "cell_type": "code",
   "execution_count": 69,
   "id": "40db5328",
   "metadata": {},
   "outputs": [],
   "source": [
    "def addr_lat_lon(addr):\n",
    "    url = 'https://dapi.kakao.com/v2/local/search/address.json?query={address}'.format(address=addr)\n",
    "    headers = {\"Authorization\": \"KakaoAK \" + \"7daa97882e20c12a93ba8f344eeb92de\"}\n",
    "    result = json.loads(str(requests.get(url, headers=headers).text))\n",
    "    match_first = result['documents'][0]['address']\n",
    "    return float(match_first['x']), float(match_first['y'])"
   ]
  },
  {
   "cell_type": "code",
   "execution_count": 76,
   "id": "b5394ea4",
   "metadata": {},
   "outputs": [
    {
     "data": {
      "text/plain": [
       "(127.193350205307, 37.4766883922306)"
      ]
     },
     "execution_count": 76,
     "metadata": {},
     "output_type": "execute_result"
    }
   ],
   "source": [
    "addr_lat_lon(\"경기 광주시 남한산성면 산성리\")"
   ]
  },
  {
   "cell_type": "code",
   "execution_count": 80,
   "id": "978f9c25",
   "metadata": {},
   "outputs": [],
   "source": [
    "def lat_lon_addr(lon,lat):\n",
    "    url = 'https://dapi.kakao.com/v2/local/geo/coord2regioncode.json?x={longitude}&y={latitude}'.format(longitude=lon,latitude=lat)\n",
    "    headers = {\"Authorization\": \"KakaoAK \" + api_key}\n",
    "    result = json.loads(str(requests.get(url, headers=headers).text))\n",
    "    match_first = result['documents'][0]['address_name']\n",
    "    return str(match_first)"
   ]
  },
  {
   "cell_type": "code",
   "execution_count": 81,
   "id": "093c4f79",
   "metadata": {},
   "outputs": [
    {
     "data": {
      "text/plain": [
       "'경기도 광주시 남한산성면 산성리'"
      ]
     },
     "execution_count": 81,
     "metadata": {},
     "output_type": "execute_result"
    }
   ],
   "source": [
    "lat_lon_addr(127.193350205307, 37.4766883922306)"
   ]
  },
  {
   "cell_type": "code",
   "execution_count": null,
   "id": "0f1a6bcc",
   "metadata": {},
   "outputs": [],
   "source": []
  }
 ],
 "metadata": {
  "kernelspec": {
   "display_name": "Python 3 (ipykernel)",
   "language": "python",
   "name": "python3"
  },
  "language_info": {
   "codemirror_mode": {
    "name": "ipython",
    "version": 3
   },
   "file_extension": ".py",
   "mimetype": "text/x-python",
   "name": "python",
   "nbconvert_exporter": "python",
   "pygments_lexer": "ipython3",
   "version": "3.8.12"
  }
 },
 "nbformat": 4,
 "nbformat_minor": 5
}
