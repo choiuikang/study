{
 "cells": [
  {
   "cell_type": "markdown",
   "id": "0787a985",
   "metadata": {},
   "source": [
    "# 구구단 2~9단 출력해보기."
   ]
  },
  {
   "cell_type": "markdown",
   "id": "ad12d681",
   "metadata": {},
   "source": [
    "## for문 \n",
    "파이썬의 직관적인 특징을 가장 잘 대변해 주는 것이 바로 이 for문이다. while문과 비슷한 반복문인 for문은 매우 유용하고 문장 구조가 한눈에 쏙 들어 온다는 장점이 있다."
   ]
  },
  {
   "cell_type": "markdown",
   "id": "652d37f3",
   "metadata": {},
   "source": [
    "앞서 말한것처럼 for문은 숫자 리스트를 자동으로 만들어주는 range함수와 함께 사용하는 경우가 많다.<br>\n",
    "range(10)은 0부터 10 미만의 숫자를 포함하는 range 객체를 만들어준다."
   ]
  },
  {
   "cell_type": "code",
   "execution_count": 15,
   "id": "11a31aaf",
   "metadata": {},
   "outputs": [
    {
     "data": {
      "text/plain": [
       "[0, 1, 2, 3, 4, 5, 6, 7, 8, 9]"
      ]
     },
     "execution_count": 15,
     "metadata": {},
     "output_type": "execute_result"
    }
   ],
   "source": [
    "a = list(range(10))\n",
    "a"
   ]
  },
  {
   "cell_type": "code",
   "execution_count": 16,
   "id": "d17c1861",
   "metadata": {},
   "outputs": [
    {
     "data": {
      "text/plain": [
       "[2, 3, 4, 5, 6, 7, 8, 9]"
      ]
     },
     "execution_count": 16,
     "metadata": {},
     "output_type": "execute_result"
    }
   ],
   "source": [
    "a_1 = list(range(2,10))\n",
    "a_1"
   ]
  },
  {
   "cell_type": "markdown",
   "id": "96bbd270",
   "metadata": {},
   "source": [
    "2~9 단을 출력하기위해 range(2,10)를 입력하였다. 2이상 10미만의 숫자가 나오는 것을 확인할수 있다.<br>\n",
    "이제 포문으로 하나씩하니씩 만들어보자."
   ]
  },
  {
   "cell_type": "code",
   "execution_count": 30,
   "id": "78c97313",
   "metadata": {},
   "outputs": [
    {
     "name": "stdout",
     "output_type": "stream",
     "text": [
      "4 * 2 = 8\n",
      "4 * 3 = 12\n",
      "4 * 4 = 16\n",
      "4 * 5 = 20\n",
      "4 * 6 = 24\n",
      "4 * 7 = 28\n",
      "4 * 8 = 32\n",
      "4 * 9 = 36\n"
     ]
    }
   ],
   "source": [
    "for i in range(2,10):\n",
    "    k = 4*i\n",
    "    print(\"%d * %d = %d\" % (4, i, k))"
   ]
  },
  {
   "cell_type": "markdown",
   "id": "9b69becd",
   "metadata": {},
   "source": [
    "#### 위에 포문을 이용해 i=rnage(2,10)을 4*i 를 해주었을때 4가 2~9까지 곱해져 나오는 것을 볼수있다."
   ]
  },
  {
   "cell_type": "markdown",
   "id": "5a38950e",
   "metadata": {},
   "source": [
    "자 이제 2중 포문을 하기전 구구단은 2단부터 9단까지 1~9까지 곱해져 나오는것을 알것이다.<br>"
   ]
  },
  {
   "cell_type": "markdown",
   "id": "23550ecd",
   "metadata": {},
   "source": [
    "그럼 1~9 까지 설정도 한번 미리보자."
   ]
  },
  {
   "cell_type": "code",
   "execution_count": 21,
   "id": "48664034",
   "metadata": {},
   "outputs": [
    {
     "data": {
      "text/plain": [
       "[1, 2, 3, 4, 5, 6, 7, 8, 9]"
      ]
     },
     "execution_count": 21,
     "metadata": {},
     "output_type": "execute_result"
    }
   ],
   "source": [
    "a_2 = list(range(1,10))\n",
    "a_2"
   ]
  },
  {
   "cell_type": "markdown",
   "id": "a2005dec",
   "metadata": {},
   "source": [
    "이제 2단,3단.....9단을 하나씩 하나씩 1~9까지 곱해서 출력해보자."
   ]
  },
  {
   "cell_type": "code",
   "execution_count": 26,
   "id": "ae0ed867",
   "metadata": {},
   "outputs": [
    {
     "name": "stdout",
     "output_type": "stream",
     "text": [
      "====2단====\n",
      "2 X 1 = 2\n",
      "2 X 2 = 4\n",
      "2 X 3 = 6\n",
      "2 X 4 = 8\n",
      "2 X 5 = 10\n",
      "2 X 6 = 12\n",
      "2 X 7 = 14\n",
      "2 X 8 = 16\n",
      "2 X 9 = 18\n",
      "\n",
      "====3단====\n",
      "3 X 1 = 3\n",
      "3 X 2 = 6\n",
      "3 X 3 = 9\n",
      "3 X 4 = 12\n",
      "3 X 5 = 15\n",
      "3 X 6 = 18\n",
      "3 X 7 = 21\n",
      "3 X 8 = 24\n",
      "3 X 9 = 27\n",
      "\n",
      "====4단====\n",
      "4 X 1 = 4\n",
      "4 X 2 = 8\n",
      "4 X 3 = 12\n",
      "4 X 4 = 16\n",
      "4 X 5 = 20\n",
      "4 X 6 = 24\n",
      "4 X 7 = 28\n",
      "4 X 8 = 32\n",
      "4 X 9 = 36\n",
      "\n",
      "====5단====\n",
      "5 X 1 = 5\n",
      "5 X 2 = 10\n",
      "5 X 3 = 15\n",
      "5 X 4 = 20\n",
      "5 X 5 = 25\n",
      "5 X 6 = 30\n",
      "5 X 7 = 35\n",
      "5 X 8 = 40\n",
      "5 X 9 = 45\n",
      "\n",
      "====6단====\n",
      "6 X 1 = 6\n",
      "6 X 2 = 12\n",
      "6 X 3 = 18\n",
      "6 X 4 = 24\n",
      "6 X 5 = 30\n",
      "6 X 6 = 36\n",
      "6 X 7 = 42\n",
      "6 X 8 = 48\n",
      "6 X 9 = 54\n",
      "\n",
      "====7단====\n",
      "7 X 1 = 7\n",
      "7 X 2 = 14\n",
      "7 X 3 = 21\n",
      "7 X 4 = 28\n",
      "7 X 5 = 35\n",
      "7 X 6 = 42\n",
      "7 X 7 = 49\n",
      "7 X 8 = 56\n",
      "7 X 9 = 63\n",
      "\n",
      "====8단====\n",
      "8 X 1 = 8\n",
      "8 X 2 = 16\n",
      "8 X 3 = 24\n",
      "8 X 4 = 32\n",
      "8 X 5 = 40\n",
      "8 X 6 = 48\n",
      "8 X 7 = 56\n",
      "8 X 8 = 64\n",
      "8 X 9 = 72\n",
      "\n",
      "====9단====\n",
      "9 X 1 = 9\n",
      "9 X 2 = 18\n",
      "9 X 3 = 27\n",
      "9 X 4 = 36\n",
      "9 X 5 = 45\n",
      "9 X 6 = 54\n",
      "9 X 7 = 63\n",
      "9 X 8 = 72\n",
      "9 X 9 = 81\n",
      "\n"
     ]
    }
   ],
   "source": [
    "for i in range(2,10):  # (1)번 for문 i는 2~9의 숫자\n",
    "    print(\"====%d단====\"%(i))\n",
    "    for j in range(1,10): # (2)번 for문 j는 1~9의 숫자\n",
    "        k= i*j # 결과 \n",
    "        print(\"%d X %d = %d\" % (i,j,k))\n",
    "    print()"
   ]
  },
  {
   "cell_type": "markdown",
   "id": "f4ece63f",
   "metadata": {},
   "source": [
    "위를 보면 for문을 두 번 사용했다. (1)번 for문에서 2부터 9까지의 숫자 (range(2,10))가 차례로 i에 대입된다. i가 처음 2일 때 (2)번 for문을 만난다. (2)번 for문에서 1부터 9까지의 숫자 (range(1,10))가 j에 대입되고 다음 k = i*j를 수행한다.<br>\n",
    "-출처 : \"Do it! 점프 투 파이썬\""
   ]
  },
  {
   "cell_type": "markdown",
   "id": "a55e9062",
   "metadata": {},
   "source": [
    "쉽게 풀이하자면 (1)번 for문 2가 (2)번 for문을 만나 1~9가지 곱해지고 9까지 완료가되면 다시 (1)번 for문으로 넘어가 3으로 다시 (2)번포문으로 넘어간다. 이걸 9까지 반복한다는 것이다."
   ]
  }
 ],
 "metadata": {
  "kernelspec": {
   "display_name": "Python 3 (ipykernel)",
   "language": "python",
   "name": "python3"
  },
  "language_info": {
   "codemirror_mode": {
    "name": "ipython",
    "version": 3
   },
   "file_extension": ".py",
   "mimetype": "text/x-python",
   "name": "python",
   "nbconvert_exporter": "python",
   "pygments_lexer": "ipython3",
   "version": "3.8.11"
  }
 },
 "nbformat": 4,
 "nbformat_minor": 5
}
